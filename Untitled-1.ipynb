{
 "cells": [
  {
   "cell_type": "code",
   "execution_count": 2,
   "metadata": {},
   "outputs": [],
   "source": [
    "from OCC.Core.gp import gp_Circ, gp_Pln, gp_XOY, gp_Pnt,gp_Dir,gp_Vec\n",
    "from OCC.Core.BRepBuilderAPI import (\n",
    "    BRepBuilderAPI_MakeEdge,\n",
    "    BRepBuilderAPI_MakeWire,\n",
    "    BRepBuilderAPI_MakeFace,\n",
    ")\n",
    "from OCC.Display.SimpleGui import init_display\n",
    "from OCC.Core.BRepPrimAPI import BRepPrimAPI_MakeBox,BRepPrimAPI_MakePrism\n",
    "\n"
   ]
  },
  {
   "cell_type": "code",
   "execution_count": 11,
   "metadata": {},
   "outputs": [
    {
     "name": "stdout",
     "output_type": "stream",
     "text": [
      "<class 'gp_Pln'>\n",
      "<class 'TopoDS_Face'>\n"
     ]
    }
   ],
   "source": [
    "aPlane = gp_Pln()\n",
    "# print(type(gp_Pln()))\n",
    "# print(type(gp_XOY()))\n",
    "\n",
    "aCircle1 = gp_Circ(gp_XOY(), 1.0)\n",
    "aCircle2 = gp_Circ(gp_XOY(), 1.0)\n",
    "aCircle3 = gp_Circ(gp_XOY(), 1.0)\n",
    "\n",
    "aCircle1.SetLocation(gp_Pnt(3.0, 3.0, 0.0))\n",
    "aCircle2.SetLocation(gp_Pnt(7.0, 3.0, 0.0))\n",
    "aCircle3.SetLocation(gp_Pnt(3.0, 7.0, 0.0))\n",
    "\n",
    "anEdgeMaker1 = BRepBuilderAPI_MakeEdge(aCircle1)\n",
    "anEdgeMaker2 = BRepBuilderAPI_MakeEdge(aCircle2)\n",
    "anEdgeMaker3 = BRepBuilderAPI_MakeEdge(aCircle3)\n",
    "\n",
    "aWireMaker1 = BRepBuilderAPI_MakeWire(anEdgeMaker1.Edge())\n",
    "aWireMaker2 = BRepBuilderAPI_MakeWire(anEdgeMaker2.Edge())\n",
    "aWireMaker3 = BRepBuilderAPI_MakeWire(anEdgeMaker3.Edge())\n",
    "\n",
    "aFaceMaker = BRepBuilderAPI_MakeFace(aPlane, 0.0, 10.0, 0.0, 10.0)\n",
    "\n",
    "print(aPlane)\n",
    "print(aFaceMaker.Shape())"
   ]
  },
  {
   "cell_type": "code",
   "execution_count": 12,
   "metadata": {},
   "outputs": [],
   "source": [
    "if aWireMaker1.IsDone():\n",
    "        aWire1 = aWireMaker1.Wire()\n",
    "        aWire1.Reverse()  # Makes this a hole in outer profile\n",
    "        aFaceMaker.Add(aWire1)\n",
    "\n",
    "if aWireMaker2.IsDone():\n",
    "    aWire2 = aWireMaker2.Wire()\n",
    "    aWire2.Reverse()  # Makes this a hole in outer profile\n",
    "    aFaceMaker.Add(aWire2)\n",
    "\n",
    "if aWireMaker3.IsDone():\n",
    "    aWire3 = aWireMaker3.Wire()\n",
    "    aWire3.Reverse()  # Makes this a hole in outer profile\n",
    "    aFaceMaker.Add(aWire3)\n",
    "\n",
    "if not aFaceMaker.IsDone():\n",
    "    raise AssertionError(\"shape not Done.\")\n",
    "aFaceMaker = aFaceMaker.Face()"
   ]
  },
  {
   "cell_type": "code",
   "execution_count": 13,
   "metadata": {},
   "outputs": [
    {
     "data": {
      "text/plain": [
       "<class 'TopoDS_Solid'>"
      ]
     },
     "execution_count": 13,
     "metadata": {},
     "output_type": "execute_result"
    }
   ],
   "source": [
    "prism = BRepPrimAPI_MakePrism(aFaceMaker, gp_Vec(0,0,5))  # 拉伸距离为5.0\n",
    "\n",
    "# solid = prism.FirstShape()\n",
    "solid = prism.Shape()\n",
    "solid"
   ]
  },
  {
   "cell_type": "code",
   "execution_count": 14,
   "metadata": {},
   "outputs": [
    {
     "name": "stdout",
     "output_type": "stream",
     "text": [
      "qt-pyqt5 backend - Qt version 5.15.2\n"
     ]
    }
   ],
   "source": [
    "display, start_display, add_menu, add_function_to_menu = init_display()\n",
    "display.DisplayShape(solid, update=True)\n",
    "start_display()"
   ]
  },
  {
   "cell_type": "code",
   "execution_count": 15,
   "metadata": {},
   "outputs": [
    {
     "name": "stdout",
     "output_type": "stream",
     "text": [
      "INFO:OCC.Display.backend:The qt-pyqt5 backend is already loaded...``load_backend`` can only be called once per session\n",
      "qt-pyqt5 backend - Qt version 5.15.2\n"
     ]
    }
   ],
   "source": [
    "aCircle4 = gp_Circ(gp_XOY(), 0.8)\n",
    "aCircle4.SetLocation(gp_Pnt(3.0, 7.0, 0.0))\n",
    "edge_builder = BRepBuilderAPI_MakeEdge(aCircle4)\n",
    "wire_builder = BRepBuilderAPI_MakeWire(edge_builder.Edge())\n",
    "aFaceMaker1 = BRepBuilderAPI_MakeFace(wire_builder.Wire())\n",
    "# aCircle4.SetLocation(gp_Pnt(3.0, 7.0, 0.0))\n",
    "# anEdgeMaker4 = BRepBuilderAPI_MakeEdge(aCircle4)\n",
    "# aWireMaker4 = BRepBuilderAPI_MakeWire(anEdgeMaker4.Edge())\n",
    "aFaceMaker1 = aFaceMaker1.Face()\n",
    "prism1 = BRepPrimAPI_MakePrism(aFaceMaker1, gp_Vec(0,0,6))  # 拉伸距离为5.0\n",
    "solid1 = prism1.Shape()\n",
    "display, start_display, add_menu, add_function_to_menu = init_display()\n",
    "display.DisplayShape(solid1, update=True)\n",
    "start_display()"
   ]
  },
  {
   "cell_type": "code",
   "execution_count": 16,
   "metadata": {},
   "outputs": [
    {
     "name": "stdout",
     "output_type": "stream",
     "text": [
      "INFO:OCC.Display.backend:The qt-pyqt5 backend is already loaded...``load_backend`` can only be called once per session\n",
      "qt-pyqt5 backend - Qt version 5.15.2\n"
     ]
    }
   ],
   "source": [
    "from OCC.Display.OCCViewer import rgb_color\n",
    "from OCC.Core.Quantity import Quantity_Color\n",
    "display, start_display, add_menu, add_function_to_menu = init_display()\n",
    "display.DisplayShape(solid1, color=rgb_color(1,0,0) ,update=True)\n",
    "display.DisplayShape(solid,  update=True)\n",
    "\n",
    "start_display()"
   ]
  },
  {
   "cell_type": "code",
   "execution_count": 7,
   "metadata": {},
   "outputs": [],
   "source": [
    "from OCC.Core.gp import gp_Pnt, gp_Dir, gp_Ax2, gp_XYZ,gp_DZ,gp_Vec\n",
    "from OCC.Core.BRepPrimAPI import BRepPrimAPI_MakeBox, BRepPrimAPI_MakeCylinder\n",
    "from OCC.Core.BRepFilletAPI import BRepFilletAPI_MakeChamfer\n",
    "from OCC.Core.TopoDS import TopoDS_Shape, TopoDS_Face\n",
    "from OCC.Display.SimpleGui import init_display\n",
    "from OCC.Core.BRepBuilderAPI import  BRepBuilderAPI_Transform,BRepBuilderAPI_MakeEdge,BRepBuilderAPI_MakeWire,BRepBuilderAPI_MakeFace\n",
    "from OCC.Core.TopoDS import topods\n",
    "from OCC.Core.gp import  gp_OX, gp_Trsf\n",
    "\n",
    "from OCC.Core.BRepAlgoAPI import BRepAlgoAPI_Fuse\n",
    "\n",
    "from OCC.Core.GC import GC_MakeArcOfCircle, GC_MakeSegment\n",
    "from OCC.Core.BRepPrimAPI import BRepPrimAPI_MakePrism\n",
    "\n",
    "from OCC.Core.BRepPrimAPI import BRepPrimAPI_MakeBox\n",
    "from OCC.Display.OCCViewer import rgb_color\n",
    "width = 10\n",
    "thickness = 8\n",
    "height = 5\n",
    "aPnt1 = gp_Pnt(-width / 2.0, 0, 0)\n",
    "aPnt2 = gp_Pnt(-width / 2.0, -thickness / 4.0, 0)\n",
    "aPnt3 = gp_Pnt(0, -thickness / 2.0, 0)\n",
    "aPnt4 = gp_Pnt(width / 2.0, -thickness / 4.0, 0)\n",
    "aPnt5 = gp_Pnt(width / 2.0, 0, 0)\n",
    "\n",
    "aArcOfCircle = GC_MakeArcOfCircle(aPnt2, aPnt3, aPnt4)\n",
    "aSegment1 = GC_MakeSegment(aPnt1, aPnt2)\n",
    "aSegment2 = GC_MakeSegment(aPnt4, aPnt5)\n",
    "\n",
    "\n",
    "aEdge1 = BRepBuilderAPI_MakeEdge(aSegment1.Value())\n",
    "aEdge2 = BRepBuilderAPI_MakeEdge(aArcOfCircle.Value())\n",
    "aEdge3 = BRepBuilderAPI_MakeEdge(aSegment2.Value())\n",
    "\n",
    "aWire = BRepBuilderAPI_MakeWire(aEdge1.Edge(), aEdge2.Edge(), aEdge3.Edge())\n",
    "\n",
    "\n",
    "# 指定x轴\n",
    "xAxis = gp_OX()\n",
    "\n",
    "# 定义镜像\n",
    "aTrsf = gp_Trsf()# 定义一个矩阵变换\n",
    "aTrsf.SetMirror(xAxis)#矩阵变换内容为 对x轴进行镜像\n",
    "\n",
    "# 运用矩阵变换：镜像\n",
    "aBRespTrsf = BRepBuilderAPI_Transform(aWire.Wire(), aTrsf)\n",
    "aMirroredShape = aBRespTrsf.Shape()#得到shape\n",
    "aMirroredWire = topods.Wire(aMirroredShape)#得到镜像后的wire\n",
    "\n",
    "\n",
    "mkWire = BRepBuilderAPI_MakeWire()\n",
    "mkWire.Add(aWire.Wire())\n",
    "mkWire.Add(aMirroredWire)\n",
    "myWireProfile = mkWire.Wire()\n",
    "\n",
    "\n",
    "#计算面\n",
    "myFaceProfile = BRepBuilderAPI_MakeFace(myWireProfile)\n",
    "\n",
    "#计算体\n",
    "aPrismVec = gp_Vec(0, 0, 5)#指定有限向量finite vector\n",
    "myBody = BRepPrimAPI_MakePrism(myFaceProfile.Face(), aPrismVec)\n",
    "myBody.Shape()\n",
    "\n",
    "\n",
    "neckLocation=gp_Pnt(0,0,height)\n",
    "neckAxis=gp_DZ()\n",
    "neckAx2=gp_Ax2(neckLocation,neckAxis)\n",
    "\n",
    "neckRadius=thickness/4\n",
    "neckHeight=height/10\n",
    "MKCylibnder=BRepPrimAPI_MakeCylinder(neckAx2,neckRadius,neckHeight)\n",
    "\n",
    "MYBody= BRepAlgoAPI_Fuse(myBody.Shape(),MKCylibnder.Shape())\n",
    "\n"
   ]
  },
  {
   "cell_type": "code",
   "execution_count": 8,
   "metadata": {},
   "outputs": [
    {
     "data": {
      "text/plain": [
       "1"
      ]
     },
     "execution_count": 8,
     "metadata": {},
     "output_type": "execute_result"
    }
   ],
   "source": [
    "from OCC.Core.STEPControl import STEPControl_Writer\n",
    "from OCC.Core.Interface import Interface_Static\n",
    "from OCC.Core.STEPControl import STEPControl_Writer, STEPControl_AsIs\n",
    "\n",
    "writer = STEPControl_Writer()\n",
    "writer.Transfer(MYBody.Shape(), STEPControl_AsIs)\n",
    "writer.Write('test1.step')\n",
    "\n"
   ]
  },
  {
   "cell_type": "code",
   "execution_count": 5,
   "metadata": {},
   "outputs": [
    {
     "name": "stdout",
     "output_type": "stream",
     "text": [
      "2\n",
      "3\n",
      "3\n"
     ]
    }
   ],
   "source": [
    "c = {'2':1,3:'3'}\n",
    "for i in c:\n",
    "    print(i)\n",
    "\n",
    "print(c[3])"
   ]
  },
  {
   "cell_type": "code",
   "execution_count": 32,
   "metadata": {},
   "outputs": [
    {
     "name": "stdout",
     "output_type": "stream",
     "text": [
      "<class 'TopoDS_Face'>\n",
      "[<class 'TopoDS_Face'>, <class 'TopoDS_Face'>, <class 'TopoDS_Face'>, <class 'TopoDS_Face'>, <class 'TopoDS_Face'>]\n",
      "[<class 'TopoDS_Face'>]\n",
      "{<class 'TopoDS_Face'>: 0, <class 'TopoDS_Face'>: 1, <class 'TopoDS_Face'>: 0, <class 'TopoDS_Face'>: 0, <class 'TopoDS_Face'>: 0}\n"
     ]
    }
   ],
   "source": [
    "import random\n",
    "import math\n",
    "import numpy as np\n",
    "from OCC.Core.BRepPrimAPI import BRepPrimAPI_MakePrism\n",
    "from OCC.Core.BRepBuilderAPI import BRepBuilderAPI_MakeEdge, BRepBuilderAPI_MakeWire, BRepBuilderAPI_MakeFace\n",
    "from OCC.Core.gp import gp_Circ, gp_Ax2, gp_Pnt, gp_Dir,gp_Vec,gp_XOY\n",
    "from OCC.Core.TopoDS import topods, TopoDS_Shape, TopoDS_Vertex, TopoDS_Edge, TopoDS_Face\n",
    "from OCC.Core.BRepBuilderAPI import BRepBuilderAPI_MakeVertex\n",
    "from OCC.Core.BRepAlgoAPI import BRepAlgoAPI_Fuse\n",
    "from OCC.Extend.TopologyUtils import TopologyExplorer, WireExplorer\n",
    "\n",
    "\n",
    "def as_occ(pnt, occ_type):\n",
    "    if occ_type not in [TopoDS_Vertex, gp_Pnt, gp_Dir, gp_Vec]:\n",
    "        return None\n",
    "     \n",
    "    if occ_type is TopoDS_Vertex:\n",
    "        return BRepBuilderAPI_MakeVertex(gp_Pnt(pnt[0], pnt[1], pnt[2])).Vertex()\n",
    "    else:\n",
    "        return occ_type(pnt[0], pnt[1], pnt[2])\n",
    "\n",
    "bound = [[ 8.6735218,  26.6743311, 58.04627475],\n",
    " [ 4.97754345, 23.04497535, 58.04627475],\n",
    " [13.65492594 ,14.2083057  ,58.04627475],\n",
    " [17.35090428, 17.83766145, 58.04627475],\n",
    " [-0. ,        -0. ,        -1.        ]]\n",
    "# bound = np.array(bound)\n",
    "\n",
    "# dir_w = bound[2] - bound[1]\n",
    "# dir_h = bound[0] - bound[1]\n",
    "# width = np.linalg.norm(dir_w)\n",
    "# height = np.linalg.norm(dir_h)\n",
    "\n",
    "# dir_w = dir_w / width\n",
    "# dir_h = dir_h / height\n",
    "# normal = np.cross(dir_w, dir_h)\n",
    "\n",
    "# radius = min(width / 2, height / 2)\n",
    "# center = (bound[0] + bound[1] + bound[2] + bound[3]) / 4\n",
    "\n",
    "circ2 = gp_Circ(gp_XOY(), 3)\n",
    "circ2.SetLocation(gp_Pnt(3.0, 7.0, 0.0))\n",
    "\n",
    "# circ = gp_Circ(gp_Ax2(gp_Pnt(center[0], center[1], center[2]), as_occ(normal, gp_Dir)), radius)\n",
    "edge2 = BRepBuilderAPI_MakeEdge(circ2).Edge()\n",
    "outer_wire2 = BRepBuilderAPI_MakeWire(edge2).Wire()\n",
    "face_maker2 = BRepBuilderAPI_MakeFace(outer_wire2)\n",
    "feat_face2 = face_maker2.Face()\n",
    "\n",
    "# circ1 = gp_Circ(gp_Ax2(gp_Pnt(center[0], center[1], center[2]), as_occ(normal, gp_Dir)), radius+3)\n",
    "circ1 = gp_Circ(gp_XOY(), 5)\n",
    "circ1.SetLocation(gp_Pnt(3.0, 7.0, 0.0))\n",
    "edge1 = BRepBuilderAPI_MakeEdge(circ1).Edge()\n",
    "outer_wire1 = BRepBuilderAPI_MakeWire(edge1).Wire()\n",
    "face_maker1 = BRepBuilderAPI_MakeFace(outer_wire1)\n",
    "feat_face1 = face_maker1.Face()\n",
    "print(feat_face1)\n",
    "\n",
    "\n",
    "lenth = [0,0,18]\n",
    "lenth1 = [0,0,5]\n",
    "feature_maker2 =  BRepPrimAPI_MakePrism(feat_face2, gp_Vec(lenth[0],lenth[1],lenth[2]))\n",
    "feature_maker1 =  BRepPrimAPI_MakePrism(feat_face1, -gp_Vec(lenth1[0],lenth1[1],lenth1[2]))\n",
    "# print(feature_maker1.Shape())\n",
    "\n",
    "\n",
    "feature_list1 = list(TopologyExplorer(feature_maker1.Shape()).faces())\n",
    "feature_list2 = list(TopologyExplorer(feature_maker2.Shape()).faces())\n",
    "\n",
    "MYBody= BRepAlgoAPI_Fuse(feature_maker1.Shape(),feature_maker2.Shape())\n",
    "shape1 = MYBody.Shape()\n",
    "faces_list = list(TopologyExplorer(shape1).faces())\n",
    "faces_list_new = list(TopologyExplorer(shape1).faces())\n",
    "print(faces_list)\n",
    "\n",
    "for i in range(len(faces_list)):\n",
    "    if faces_list[i] in feature_list1 or faces_list[i] in feature_list2:\n",
    "        faces_list_new.remove(faces_list[i])\n",
    "print(faces_list_new)\n",
    "\n",
    "dic_faces = {key: 0 for key in faces_list}\n",
    "\n",
    "for k in dic_faces:\n",
    "    if k == faces_list_new[0]:\n",
    "        dic_faces[k] = 1\n",
    "print(dic_faces)\n",
    "\n",
    "\n",
    "# from OCC.Core.gp import gp_Circ, gp_Pln, gp_XOY, gp_Pnt,gp_Dir,gp_Vec\n",
    "# from OCC.Core.BRepBuilderAPI import (\n",
    "#     BRepBuilderAPI_MakeEdge,\n",
    "#     BRepBuilderAPI_MakeWire,\n",
    "#     BRepBuilderAPI_MakeFace,\n",
    "# )\n",
    "# from OCC.Display.SimpleGui import init_display\n",
    "# from OCC.Core.BRepPrimAPI import BRepPrimAPI_MakeBox,BRepPrimAPI_MakePrism\n",
    "\n",
    "# display, start_display, add_menu, add_function_to_menu = init_display()\n",
    "# display.DisplayShape(feature_maker1.Shape(),  update=True)\n",
    "# display.DisplayShape(feature_maker2.Shape(),  update=True)\n",
    "\n",
    "# start_display()\n"
   ]
  },
  {
   "cell_type": "code",
   "execution_count": 9,
   "metadata": {},
   "outputs": [
    {
     "ename": "TypeError",
     "evalue": "TopoDS_Builder_Add expected 3 arguments, got 4",
     "output_type": "error",
     "traceback": [
      "\u001b[1;31m---------------------------------------------------------------------------\u001b[0m",
      "\u001b[1;31mTypeError\u001b[0m                                 Traceback (most recent call last)",
      "Cell \u001b[1;32mIn[9], line 16\u001b[0m\n\u001b[0;32m     13\u001b[0m builder \u001b[39m=\u001b[39m BRep_Builder()\n\u001b[0;32m     14\u001b[0m builder\u001b[39m.\u001b[39mMakeCompound(compound)\n\u001b[1;32m---> 16\u001b[0m builder\u001b[39m.\u001b[39;49mAdd(compound, box1,box2)\n\u001b[0;32m     17\u001b[0m \u001b[39m# builder.Add(compound, box2)\u001b[39;00m\n\u001b[0;32m     20\u001b[0m \u001b[39mfrom\u001b[39;00m \u001b[39mOCC\u001b[39;00m\u001b[39m.\u001b[39;00m\u001b[39mCore\u001b[39;00m\u001b[39m.\u001b[39;00m\u001b[39mSTEPControl\u001b[39;00m \u001b[39mimport\u001b[39;00m STEPControl_Writer, STEPControl_AsIs\n",
      "File \u001b[1;32md:\\ProgramData\\anaconda3\\envs\\AAGNet\\lib\\site-packages\\OCC\\Core\\TopoDS.py:918\u001b[0m, in \u001b[0;36mTopoDS_Builder.Add\u001b[1;34m(self, *args)\u001b[0m\n\u001b[0;32m    904\u001b[0m \u001b[39mdef\u001b[39;00m \u001b[39mAdd\u001b[39m(\u001b[39mself\u001b[39m, \u001b[39m*\u001b[39margs) \u001b[39m-\u001b[39m\u001b[39m>\u001b[39m \u001b[39m\"\u001b[39m\u001b[39mvoid\u001b[39m\u001b[39m\"\u001b[39m:\n\u001b[0;32m    905\u001b[0m \u001b[39m    \u001b[39m\u001b[39mr\u001b[39m\u001b[39m\"\"\"\u001b[39;00m\n\u001b[0;32m    906\u001b[0m \u001b[39m    Add the shape c in the shape s. exceptions - topods_frozenshape if s is not free and cannot be modified. - topods__uncompatibleshapes if s and c are not compatible.\u001b[39;00m\n\u001b[0;32m    907\u001b[0m \n\u001b[1;32m   (...)\u001b[0m\n\u001b[0;32m    916\u001b[0m \n\u001b[0;32m    917\u001b[0m \u001b[39m    \"\"\"\u001b[39;00m\n\u001b[1;32m--> 918\u001b[0m     \u001b[39mreturn\u001b[39;00m _TopoDS\u001b[39m.\u001b[39;49mTopoDS_Builder_Add(\u001b[39mself\u001b[39;49m, \u001b[39m*\u001b[39;49margs)\n",
      "\u001b[1;31mTypeError\u001b[0m: TopoDS_Builder_Add expected 3 arguments, got 4"
     ]
    }
   ],
   "source": [
    "from OCC.Core.BRepAlgoAPI import BRepAlgoAPI_Fuse\n",
    "from OCC.Core.BRepPrimAPI import BRepPrimAPI_MakeBox\n",
    "from OCC.Core.TopoDS import TopoDS_Shape, TopoDS_Compound\n",
    "from OCC.Core.STEPControl import STEPControl_Writer\n",
    "from OCC.Core.BRep import BRep_Builder\n",
    "\n",
    "# 创建两个简单的形状，例如两个长方体\n",
    "box1 = BRepPrimAPI_MakeBox(10, 10, 10).Shape()\n",
    "box2 = BRepPrimAPI_MakeBox(30, 30, 30).Shape()\n",
    "\n",
    "# 初始化一个Compound来存储合并后的形状\n",
    "compound = TopoDS_Compound()\n",
    "builder = BRep_Builder()\n",
    "builder.MakeCompound(compound)\n",
    "\n",
    "builder.Add(compound, box1,)\n",
    "builder.Add(compound, box2)\n",
    "\n",
    "\n",
    "\n",
    "\n"
   ]
  }
 ],
 "metadata": {
  "kernelspec": {
   "display_name": "HCADNet",
   "language": "python",
   "name": "python3"
  },
  "language_info": {
   "codemirror_mode": {
    "name": "ipython",
    "version": 3
   },
   "file_extension": ".py",
   "mimetype": "text/x-python",
   "name": "python",
   "nbconvert_exporter": "python",
   "pygments_lexer": "ipython3",
   "version": "3.9.0"
  },
  "orig_nbformat": 4
 },
 "nbformat": 4,
 "nbformat_minor": 2
}
